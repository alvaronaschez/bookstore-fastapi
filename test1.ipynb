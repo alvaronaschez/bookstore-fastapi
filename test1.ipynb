{
 "cells": [
  {
   "cell_type": "code",
   "execution_count": 4,
   "metadata": {},
   "outputs": [
    {
     "name": "stdout",
     "output_type": "stream",
     "text": [
      "{'title': 'juas', 'price': {'currency': <Currency.EUR: 'EUR'>, 'value': 1050}, 'author_ids': [1, 2, 3], 'isbn': '1234567890'}\n",
      "{'title': 'juas', 'price': {'currency': <Currency.EUR: 'EUR'>, 'value': 1050}, 'authorIds': [1, 2, 3], 'isbn': '1234567890'}\n"
     ]
    }
   ],
   "source": [
    "from bookstore.models.book import BookIn\n",
    "from bookstore.models.price import Price\n",
    "price = Price(currency=\"EUR\", value=1050)\n",
    "b = BookIn(title=\"juas\", price=price, authorIds=[1,2,3], isbn=\"1234567890\")#, summary='jaja')\n",
    "d = b.dict(exclude_unset=True)\n",
    "print(d)\n",
    "type(d)\n",
    "j = b.json(exclude_unset=True)\n",
    "print(j)"
   ]
  }
 ],
 "metadata": {
  "kernelspec": {
   "display_name": "Python 3.10.8 ('bookstore-fastapi-OeQZ4STT-py3.10')",
   "language": "python",
   "name": "python3"
  },
  "language_info": {
   "codemirror_mode": {
    "name": "ipython",
    "version": 3
   },
   "file_extension": ".py",
   "mimetype": "text/x-python",
   "name": "python",
   "nbconvert_exporter": "python",
   "pygments_lexer": "ipython3",
   "version": "3.10.8"
  },
  "orig_nbformat": 4,
  "vscode": {
   "interpreter": {
    "hash": "9587a0f981df851b317d91abd8699ae7f24b2b03ac78a5e81af5d475ce06a34c"
   }
  }
 },
 "nbformat": 4,
 "nbformat_minor": 2
}
